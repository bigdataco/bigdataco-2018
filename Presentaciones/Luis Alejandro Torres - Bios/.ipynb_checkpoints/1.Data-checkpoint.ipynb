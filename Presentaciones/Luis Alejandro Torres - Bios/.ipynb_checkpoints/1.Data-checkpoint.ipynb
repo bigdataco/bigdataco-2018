{
 "cells": [
  {
   "cell_type": "code",
   "execution_count": 13,
   "metadata": {},
   "outputs": [
    {
     "name": "stdout",
     "output_type": "stream",
     "text": [
      "Se usará la carpeta existente:C:\\Users\\aleja\\Documents\\Work\\BigData CO 2018\\datasets\n",
      "\n",
      "Comprobando la disponibilidad del dataset titanic\n",
      "Archivo ya existe: C:\\Users\\aleja\\Documents\\Work\\BigData CO 2018\\datasets\\titanic3.csv\n",
      "Dataset [OK]\n"
     ]
    }
   ],
   "source": [
    "import os\n",
    "import sys\n",
    "import zipfile\n",
    "import tarfile\n",
    "\n",
    "try:\n",
    "    from urllib.request import urlopen\n",
    "except ImportError:\n",
    "    from urllib import urlopen\n",
    "\n",
    "TITANIC_ARCHIVE_NAME = \"titanic3.csv\"\n",
    "TITANIC_URL = \"https://raw.githubusercontent.com/amueller/scipy-2017-sklearn/master/notebooks/datasets/titanic3.csv\"\n",
    "\n",
    "\n",
    "def get_datasets_folder():\n",
    "    here = os.getcwd()\n",
    "    datasets_folder = os.path.abspath(os.path.join(here, 'datasets'))\n",
    "    \n",
    "    if not os.path.exists(datasets_folder):\n",
    "        print(\"Creando carpeta \" + datasets_folder + \" para almacenar el dataset\")\n",
    "        os.makedirs(datasets_folder)\n",
    "    else:\n",
    "        print(\"Se usará la carpeta existente:\" + datasets_folder)\n",
    "    \n",
    "    return datasets_folder\n",
    "\n",
    "\n",
    "def check_titanic(datasets_folder):\n",
    "    print(\"\\nComprobando la disponibilidad del dataset titanic\")\n",
    "    archive_path = os.path.join(datasets_folder, TITANIC_ARCHIVE_NAME)\n",
    "    \n",
    "    if not os.path.exists(archive_path):\n",
    "        print(\"Descargando el dataset de %s (104KB)\" % TITANIC_URL)\n",
    "        opener = urlopen(TITANIC_URL)\n",
    "        open(archive_path, 'wb').write(opener.read())\n",
    "    else:\n",
    "        print(\"Archivo ya existe: \" + archive_path)\n",
    "        \n",
    "    print(\"Dataset [OK]\")\n",
    "    \n",
    "datasets_folder = get_datasets_folder()\n",
    "check_titanic(datasets_folder)  \n",
    "            \n"
   ]
  }
 ],
 "metadata": {
  "kernelspec": {
   "display_name": "Python 3",
   "language": "python",
   "name": "python3"
  },
  "language_info": {
   "codemirror_mode": {
    "name": "ipython",
    "version": 3
   },
   "file_extension": ".py",
   "mimetype": "text/x-python",
   "name": "python",
   "nbconvert_exporter": "python",
   "pygments_lexer": "ipython3",
   "version": "3.6.4"
  }
 },
 "nbformat": 4,
 "nbformat_minor": 2
}
