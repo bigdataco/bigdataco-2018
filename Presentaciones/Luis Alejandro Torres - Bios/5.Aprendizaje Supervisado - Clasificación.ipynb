{
 "cells": [
  {
   "cell_type": "markdown",
   "metadata": {},
   "source": [
    "# Aprendizaje Supervisado - Clasificación\n",
    "\n",
    "Para entender mejor los algoritmos de *Machine Learning* es recomendable trabajar con *datasets* con pocas características (una o dos) con el fin de poder realizar las respectivas visualizaciones (2D). \n",
    "\n",
    "La función ***make_blobs*** tiene la capacidad de generar un *dataset* sintético con dos dimensiones (características) y el problemade es una clasificación binaria."
   ]
  },
  {
   "cell_type": "code",
   "execution_count": 104,
   "metadata": {},
   "outputs": [
    {
     "name": "stdout",
     "output_type": "stream",
     "text": [
      "X -> n_samples:  100\n",
      "X -> n_features:  2\n",
      "y -> n_samples:  100\n"
     ]
    }
   ],
   "source": [
    "from sklearn.datasets import make_blobs\n",
    "\n",
    "X, y = make_blobs(centers=2, random_state=0)\n",
    "\n",
    "print(\"X -> n_samples: \", X.shape[0])\n",
    "print(\"X -> n_features: \", X.shape[1])\n",
    "print(\"y -> n_samples: \", y.shape[0])"
   ]
  },
  {
   "cell_type": "code",
   "execution_count": 105,
   "metadata": {},
   "outputs": [
    {
     "name": "stdout",
     "output_type": "stream",
     "text": [
      "Primeras diez muestras: \n",
      " [[ 4.21850347  2.23419161]\n",
      " [ 0.90779887  0.45984362]\n",
      " [-0.27652528  5.08127768]\n",
      " [ 0.08848433  2.32299086]\n",
      " [ 3.24329731  1.21460627]\n",
      " [ 1.44193252  2.76754364]\n",
      " [ 1.0220286   4.11660348]\n",
      " [ 3.97820955  2.37817845]\n",
      " [ 0.58894326  4.00148458]\n",
      " [ 1.25185786  0.20811388]]\n",
      "Primeras diez etiquetas: \n",
      " [1 1 0 0 1 0 0 1 0 1]\n"
     ]
    }
   ],
   "source": [
    "print(\"Primeras diez muestras: \\n\", X[:10, :])\n",
    "print(\"Primeras diez etiquetas: \\n\", y[:10])"
   ]
  },
  {
   "cell_type": "markdown",
   "metadata": {},
   "source": [
    "Como se menciono antes, los datos son bidimensionales (dos características) y se pueden representar facilmente en un sistema de coordenadas 2D."
   ]
  },
  {
   "cell_type": "code",
   "execution_count": 106,
   "metadata": {},
   "outputs": [
    {
     "data": {
      "image/png": "[encoded data removed]",
      "text/plain": [
       "<Figure size 432x288 with 1 Axes>"
      ]
     },
     "metadata": {},
     "output_type": "display_data"
    }
   ],
   "source": [
    "%matplotlib inline\n",
    "import matplotlib.pyplot as plt\n",
    "\n",
    "plt.scatter(X[y == 0, 0], X[y == 0, 1], c='blue', s=40, label='0')\n",
    "plt.scatter(X[y == 1, 0], X[y == 1, 1], c='red', s=40, label='1')\n",
    "\n",
    "plt.xlabel('Característica 1')\n",
    "plt.ylabel('Característica 2')\n",
    "plt.legend(loc='upper right');"
   ]
  },
  {
   "cell_type": "markdown",
   "metadata": {},
   "source": [
    "Se dividirá el *dataset* en los conjuntos *train* y *test con la función *train_test_split* manteniendo las proporciones entre las clases en los conjuntos realianzado una partición estratificada. "
   ]
  },
  {
   "cell_type": "code",
   "execution_count": 107,
   "metadata": {},
   "outputs": [],
   "source": [
    "from sklearn.model_selection import train_test_split\n",
    "\n",
    "X_train, X_test, y_train, y_test = train_test_split(X, y, \n",
    "                                                    test_size=0.25, \n",
    "                                                    train_size=0.75,\n",
    "                                                    random_state=123,\n",
    "                                                    stratify = y)"
   ]
  },
  {
   "cell_type": "code",
   "execution_count": 108,
   "metadata": {},
   "outputs": [
    {
     "name": "stdout",
     "output_type": "stream",
     "text": [
      "Número de muestras del conjunto train:  75\n",
      "Número de muestras del conjunto test:  25\n"
     ]
    }
   ],
   "source": [
    "print(\"Número de muestras del conjunto train: \", X_train.shape[0])\n",
    "print(\"Número de muestras del conjunto test: \", X_test.shape[0])"
   ]
  },
  {
   "cell_type": "markdown",
   "metadata": {},
   "source": [
    "En ***Scikit-learn*** los modelos y algoritmos cuentan con una interfaz denominada **Estimador**. Para este ejemplo se trabaja con el algortimo de *Regresión Logística*."
   ]
  },
  {
   "cell_type": "code",
   "execution_count": 109,
   "metadata": {},
   "outputs": [],
   "source": [
    "from sklearn.linear_model import LogisticRegression"
   ]
  },
  {
   "cell_type": "markdown",
   "metadata": {},
   "source": [
    "Instanciar el estimador"
   ]
  },
  {
   "cell_type": "code",
   "execution_count": 111,
   "metadata": {},
   "outputs": [],
   "source": [
    "lr = LogisticRegression()"
   ]
  },
  {
   "cell_type": "markdown",
   "metadata": {},
   "source": [
    "Entrenar el estimador con los datos del conjunto *train* para construir el modelo mediante la función *fit*."
   ]
  },
  {
   "cell_type": "code",
   "execution_count": 112,
   "metadata": {},
   "outputs": [
    {
     "data": {
      "text/plain": [
       "LogisticRegression(C=1.0, class_weight=None, dual=False, fit_intercept=True,\n",
       "          intercept_scaling=1, max_iter=100, multi_class='ovr', n_jobs=1,\n",
       "          penalty='l2', random_state=None, solver='liblinear', tol=0.0001,\n",
       "          verbose=0, warm_start=False)"
      ]
     },
     "execution_count": 112,
     "metadata": {},
     "output_type": "execute_result"
    }
   ],
   "source": [
    "lr.fit(X_train, y_train)"
   ]
  },
  {
   "cell_type": "markdown",
   "metadata": {},
   "source": [
    "Los parámetros usados en el clasificador son tomados por defecto. Estos pueden ser modificados a la hora de instanciar el estimador pero es recomendable realizar una validación cruzada. Este procedimiento puede realizarse usando la función de *Scikit-learn* ***GridSearchCV***."
   ]
  },
  {
   "cell_type": "markdown",
   "metadata": {},
   "source": [
    "Para evaluar el rendimiento del modelo se usará el método *predict*."
   ]
  },
  {
   "cell_type": "code",
   "execution_count": 113,
   "metadata": {},
   "outputs": [],
   "source": [
    "prediction = lr.predict(X_test)"
   ]
  },
  {
   "cell_type": "code",
   "execution_count": 114,
   "metadata": {},
   "outputs": [
    {
     "name": "stdout",
     "output_type": "stream",
     "text": [
      "Casos correctamente clasificados (CCR) [Precisión] : 0.8\n"
     ]
    }
   ],
   "source": [
    "import numpy as np\n",
    "\n",
    "print(\"Casos correctamente clasificados (CCR) [Precisión] :\", \n",
    "      np.mean(prediction == y_test))"
   ]
  },
  {
   "cell_type": "markdown",
   "metadata": {},
   "source": [
    "*Scikit-learn* cuenta con la función *score* para obtener el rendimiento del modelo:"
   ]
  },
  {
   "cell_type": "code",
   "execution_count": 115,
   "metadata": {},
   "outputs": [
    {
     "data": {
      "text/plain": [
       "0.8"
      ]
     },
     "execution_count": 115,
     "metadata": {},
     "output_type": "execute_result"
    }
   ],
   "source": [
    "lr.score(X_test, y_test)"
   ]
  },
  {
   "cell_type": "code",
   "execution_count": 116,
   "metadata": {},
   "outputs": [
    {
     "data": {
      "text/plain": [
       "0.9466666666666667"
      ]
     },
     "execution_count": 116,
     "metadata": {},
     "output_type": "execute_result"
    }
   ],
   "source": [
    "lr.score(X_train, y_train)"
   ]
  },
  {
   "cell_type": "markdown",
   "metadata": {},
   "source": [
    "El algortimo de Regresión Logística (*Logistic Regression*)es un modelo lineal, por tanto, busca en donde colocar una frontera entre los dos tipos (0 o 1)."
   ]
  },
  {
   "cell_type": "markdown",
   "metadata": {},
   "source": [
    "***mglearn*** Helper functions for the book 'Introduction to machine learning with Python'"
   ]
  },
  {
   "cell_type": "raw",
   "metadata": {},
   "source": [
    "!pip install mglearn"
   ]
  },
  {
   "cell_type": "code",
   "execution_count": 117,
   "metadata": {},
   "outputs": [
    {
     "data": {
      "image/png": "[encoded data removed]",
      "text/plain": [
       "<Figure size 432x288 with 1 Axes>"
      ]
     },
     "metadata": {},
     "output_type": "display_data"
    }
   ],
   "source": [
    "plt.scatter(X[y == 0, 0], X[y == 0, 1], c='blue', s=40, label='0')\n",
    "plt.scatter(X[y == 1, 0], X[y == 1, 1], c='red', s=40, label='1')\n",
    "\n",
    "plt.xlabel('Característica 1')\n",
    "plt.ylabel('Característica 2')\n",
    "\n",
    "mglearn.plots.plot_2d_separator(lr, X, alpha=.7)\n",
    "plt.legend(loc='upper right');"
   ]
  },
  {
   "cell_type": "markdown",
   "metadata": {},
   "source": [
    "Para la regresión logística se estiman dos parámetros: Los coeficientes y el punto de origen de la línea recta."
   ]
  },
  {
   "cell_type": "code",
   "execution_count": 118,
   "metadata": {},
   "outputs": [
    {
     "name": "stdout",
     "output_type": "stream",
     "text": [
      "Coeficientes:  [[ 1.26084014 -1.42502367]]\n",
      "Punto de intercepción:  [1.81793354]\n"
     ]
    }
   ],
   "source": [
    "print(\"Coeficientes: \", lr.coef_)\n",
    "print(\"Punto de intercepción: \", lr.intercept_)"
   ]
  },
  {
   "cell_type": "markdown",
   "metadata": {},
   "source": [
    "**k Nearest Neighbors kNN**\n",
    "\n",
    "Ahora se usará otro estimador con el mismo *dataset* para observar como puede mejorar el rendimiento cuando se aplica otro que logre ajustarse más a los datos."
   ]
  },
  {
   "cell_type": "code",
   "execution_count": 119,
   "metadata": {},
   "outputs": [
    {
     "data": {
      "text/plain": [
       "KNeighborsClassifier(algorithm='auto', leaf_size=30, metric='minkowski',\n",
       "           metric_params=None, n_jobs=1, n_neighbors=5, p=2,\n",
       "           weights='uniform')"
      ]
     },
     "execution_count": 119,
     "metadata": {},
     "output_type": "execute_result"
    }
   ],
   "source": [
    "from sklearn.neighbors import KNeighborsClassifier\n",
    "\n",
    "knn = KNeighborsClassifier()\n",
    "knn.fit(X_train, y_train)"
   ]
  },
  {
   "cell_type": "code",
   "execution_count": 101,
   "metadata": {},
   "outputs": [
    {
     "data": {
      "text/plain": [
       "0.88"
      ]
     },
     "execution_count": 101,
     "metadata": {},
     "output_type": "execute_result"
    }
   ],
   "source": [
    "knn.score(X_test, y_test)"
   ]
  },
  {
   "cell_type": "code",
   "execution_count": 120,
   "metadata": {},
   "outputs": [
    {
     "data": {
      "text/plain": [
       "0.9866666666666667"
      ]
     },
     "execution_count": 120,
     "metadata": {},
     "output_type": "execute_result"
    }
   ],
   "source": [
    "knn.score(X_train, y_train)"
   ]
  },
  {
   "cell_type": "code",
   "execution_count": 121,
   "metadata": {},
   "outputs": [
    {
     "data": {
      "image/png": "[encoded data removed]",
      "text/plain": [
       "<Figure size 432x288 with 1 Axes>"
      ]
     },
     "metadata": {},
     "output_type": "display_data"
    }
   ],
   "source": [
    "plt.scatter(X[y == 0, 0], X[y == 0, 1], c='blue', s=40, label='0')\n",
    "plt.scatter(X[y == 1, 0], X[y == 1, 1], c='red', s=40, label='1')\n",
    "\n",
    "plt.xlabel('Característica 1')\n",
    "plt.ylabel('Característica 2')\n",
    "\n",
    "mglearn.plots.plot_2d_separator(knn, X, alpha=.7)\n",
    "plt.legend(loc='upper right');"
   ]
  },
  {
   "cell_type": "markdown",
   "metadata": {},
   "source": [
    "Al comparar los resultados obtenidos para ambos modelos se puede observar que kNN se ajusta mejor al *dataset* dando mejores resultados ante nuevos datos.\n",
    "\n",
    "**Resultados - Regresión Logística**\n",
    "- Train: 0.946\n",
    "- Test: 0.8\n",
    "\n",
    "**Resultados - k Nearest Neigbors**\n",
    "- Train: 0.986\n",
    "- Test: 0.88"
   ]
  }
 ],
 "metadata": {
  "kernelspec": {
   "display_name": "Python 3",
   "language": "python",
   "name": "python3"
  },
  "language_info": {
   "codemirror_mode": {
    "name": "ipython",
    "version": 3
   },
   "file_extension": ".py",
   "mimetype": "text/x-python",
   "name": "python",
   "nbconvert_exporter": "python",
   "pygments_lexer": "ipython3",
   "version": "3.6.4"
  }
 },
 "nbformat": 4,
 "nbformat_minor": 2
}
