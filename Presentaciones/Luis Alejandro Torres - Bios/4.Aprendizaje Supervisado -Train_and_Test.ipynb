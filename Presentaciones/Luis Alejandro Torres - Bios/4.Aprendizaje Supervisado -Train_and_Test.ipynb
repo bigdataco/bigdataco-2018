{
 "cells": [
  {
   "cell_type": "markdown",
   "metadata": {},
   "source": [
    "# Aprendizaje Supervisado - Train and Test\n",
    "\n",
    "En *Machine Learning* se trata de aprender algunas propiedades de un conjunto de datos y aplicarlos a nuevos datos. Esta es la razón por la cual una práctica común para evaluar un algoritmo es dividir los datos disponibles en dos conjuntos, uno llamado ***training set*** en el que se aprende datos y otro llamado ***testing set*** en el que se prueban estas propiedades aprendidas.\n",
    "\n",
    "![title](Images/Train_test_set.png)\n",
    "\n",
    "Para comprender mejor los conceptos se utilizará el *dataset* **IRIS** tratado en el *Notebook 2 -Visualización de Datos*."
   ]
  },
  {
   "cell_type": "code",
   "execution_count": 5,
   "metadata": {},
   "outputs": [],
   "source": [
    "from sklearn.datasets import load_iris\n",
    "\n",
    "iris = load_iris()\n",
    "X, y = iris.data, iris.target"
   ]
  },
  {
   "cell_type": "markdown",
   "metadata": {},
   "source": [
    "Los datos de ***testing set*** simularán los \"datos futuros\" que se cargarán al sistema en etapa de producción.\n",
    "\n",
    "En el *dataset* IRIS se cuenta con 150 muestras ordenadas, lo que quiere decir que si se divide de forma directa y proporcional, la distribución de las clases en los conjuntos de *train* y *test* se alterará. Por ejemplo, si se divide el en 2/3 para *train* y 1/3 para *test*, el primero quedará unicamente con muestras 0 y 1 (Setosa y Versicolor) y el segundo con muestras 2 (Virginica). Al entrenar el modelo bajo estas circunstancias, solo se aprenderá a reconocer las dos primeras dos clases y al presentar el *dataset* de *testing* no podrá identificar a que clase pertenecen estos datos. Lo correcto sería distribuir cada una de las clases de forma aleatoria y equilibrada en ambos conjuntos.\n",
    "\n",
    "La tarea de dividir el *dataset* en los conjuntos de *train* y *test* es bastante común en *Machine Learning* y *Scikit-learn* cuenta una función para realizarla. Ahora, existen varias porcentajes en los que suelen dividirse los *datasets* pero dependen generalmente del problema tratado, pero lo que siempre debe tenerse en cuenta es que la evaluación se haga con datos no presentados al modelo en la fase de *train*.\n",
    "\n",
    "En *Scikit-learn* esta tarea se realiza de la siguiente forma:"
   ]
  },
  {
   "cell_type": "code",
   "execution_count": 65,
   "metadata": {},
   "outputs": [
    {
     "name": "stdout",
     "output_type": "stream",
     "text": [
      "Etiquetas train\n",
      "[1 1 0 2 2 0 0 1 1 2 0 0 1 0 1 2 0 2 0 0 1 0 0 1 2 1 1 1 0 0 1 2 0 0 1 1 1\n",
      " 2 1 1 1 2 0 0 1 2 2 2 2 0 1 0 1 1 0 1 2 1 2 2 0 1 0 2 2 1 1 2 2 1 0 1 1 2\n",
      " 2]\n",
      "Etiquetas test\n",
      "[1 2 2 1 0 2 1 0 0 1 2 0 1 2 2 2 0 0 1 0 0 2 0 2 0 0 0 2 2 0 2 2 0 0 1 1 2\n",
      " 0 0 1 1 0 2 2 2 2 2 1 0 0 2 0 0 1 1 1 1 2 1 2 0 2 1 0 0 2 1 2 2 0 1 1 2 0\n",
      " 2]\n"
     ]
    }
   ],
   "source": [
    "from sklearn.model_selection import train_test_split\n",
    "\n",
    "train_X, test_X, train_y, test_y = train_test_split(X, y, train_size=0.5, test_size=0.5, random_state=123)\n",
    "print(\"Etiquetas train\")\n",
    "print(train_y)\n",
    "print(\"Etiquetas test\")\n",
    "print(test_y)"
   ]
  },
  {
   "cell_type": "markdown",
   "metadata": {},
   "source": [
    "## Partición Estratificada\n",
    "\n",
    "Es recomendable mantener la proporción de las clases que había en el *dataset* original en los conjuntos *train* y *test* en especial si se trabajan con pocos datos."
   ]
  },
  {
   "cell_type": "code",
   "execution_count": 66,
   "metadata": {},
   "outputs": [
    {
     "name": "stdout",
     "output_type": "stream",
     "text": [
      "Proporción del dataset original:  [33.33333333 33.33333333 33.33333333]\n",
      "Proporción del conjunto train:  [30.66666667 40.         29.33333333]\n",
      "Proporción del conjunto test:  [36.         26.66666667 37.33333333]\n"
     ]
    }
   ],
   "source": [
    "import numpy as np\n",
    "print(\"Proporción del dataset original: \", np.bincount(y)/float(len(y))*100.0)\n",
    "print(\"Proporción del conjunto train: \", np.bincount(train_y)/float(len(train_y))*100)\n",
    "print(\"Proporción del conjunto test: \", np.bincount(test_y)/float(len(test_y))*100)"
   ]
  },
  {
   "cell_type": "markdown",
   "metadata": {},
   "source": [
    "Analizando el *split* anterior se puede observar que no se han mantenido las proporciones entre las clases en los conjuntos *train* y *test*. Para realizar la partición estratificada se debe incluir el array de etiquetas al momento de realizar el *split*, esto se hace incluyendo el parámetro *stratify=y*."
   ]
  },
  {
   "cell_type": "code",
   "execution_count": 68,
   "metadata": {},
   "outputs": [],
   "source": [
    "train_X, test_X, train_y, test_y = train_test_split(X, y, train_size=0.5, test_size=0.5,\n",
    "                                                    random_state=123, stratify=y)"
   ]
  },
  {
   "cell_type": "code",
   "execution_count": 62,
   "metadata": {},
   "outputs": [
    {
     "name": "stdout",
     "output_type": "stream",
     "text": [
      "Proporción del dataset original:  [33.33333333 33.33333333 33.33333333]\n",
      "Proporción del conjunto train:  [33.33333333 33.33333333 33.33333333]\n",
      "Proporción del conjunto test:  [33.33333333 33.33333333 33.33333333]\n"
     ]
    }
   ],
   "source": [
    "print(\"Proporción del dataset original: \", np.bincount(y)/float(len(y))*100.0)\n",
    "print(\"Proporción del conjunto train: \", np.bincount(train_y)/float(len(train_y))*100)\n",
    "print(\"Proporción del conjunto test: \", np.bincount(test_y)/float(len(test_y))*100)"
   ]
  },
  {
   "cell_type": "markdown",
   "metadata": {},
   "source": [
    "A continuación se evaluará el rendimiento de un modelo de clasificación utilizando los conjuntos *train* y *test* generados anteriormente."
   ]
  },
  {
   "cell_type": "code",
   "execution_count": 69,
   "metadata": {},
   "outputs": [
    {
     "name": "stdout",
     "output_type": "stream",
     "text": [
      "Casos correctamente clasificados (CCR) [Precisión] : 0.96\n"
     ]
    }
   ],
   "source": [
    "from sklearn.neighbors import KNeighborsClassifier\n",
    "\n",
    "classifier = KNeighborsClassifier()\n",
    "classifier.fit(train_X, train_y)\n",
    "pred_y = classifier.predict(test_X)\n",
    "\n",
    "print(\"Casos correctamente clasificados (CCR) [Precisión] :\", np.mean(pred_y == test_y))"
   ]
  },
  {
   "cell_type": "code",
   "execution_count": 64,
   "metadata": {},
   "outputs": [
    {
     "data": {
      "text/plain": [
       "0.96"
      ]
     },
     "execution_count": 64,
     "metadata": {},
     "output_type": "execute_result"
    }
   ],
   "source": [
    "classifier.score(test_X, test_y)"
   ]
  },
  {
   "cell_type": "markdown",
   "metadata": {},
   "source": [
    "## Análisis y Visualización de Resultados\n",
    "\n",
    "Para visualizar aciertos y fallos:"
   ]
  },
  {
   "cell_type": "code",
   "execution_count": 52,
   "metadata": {},
   "outputs": [
    {
     "name": "stdout",
     "output_type": "stream",
     "text": [
      "Índice de los datos clasificados de forma correcta: \n",
      " [ 0  1  2  3  4  5  6  7  8  9 10 11 12 13 14 15 16 17 18 19 20 21 22 23\n",
      " 24 25 26 27 28 29 30 31 32 33 34 35 36 37 38 39 40 41 42 43 45 46 47 48\n",
      " 50 51 52 53 54 55 56 57 58 59 61 62 63 64 65 66 67 68 69 70 71 72 73 74] \n",
      "\n",
      "Índice de los datos clasificados de forma incorrecta: \n",
      " [44 49 60]\n"
     ]
    }
   ],
   "source": [
    "correct_idx = np.where(pred_y == test_y)[0]\n",
    "incorrect_idx = np.where(pred_y != test_y)[0]\n",
    "\n",
    "print(\"Índice de los datos clasificados de forma correcta: \\n\", correct_idx, \"\\n\")\n",
    "print(\"Índice de los datos clasificados de forma incorrecta: \\n\", incorrect_idx)"
   ]
  },
  {
   "cell_type": "code",
   "execution_count": 43,
   "metadata": {},
   "outputs": [
    {
     "data": {
      "image/png": "[encoded data removed]",
      "text/plain": [
       "<Figure size 432x288 with 1 Axes>"
      ]
     },
     "metadata": {},
     "output_type": "display_data"
    }
   ],
   "source": [
    "%matplotlib inline\n",
    "import matplotlib.pyplot as plt\n",
    "\n",
    "correct_idx = np.where(pred_y == test_y)[0]\n",
    "incorrect_idx = np.where(pred_y != test_y)[0]\n",
    "\n",
    "colors = [\"blue\", \"red\", \"green\"]\n",
    "for n, color in enumerate(colors):\n",
    "    idx = np.where(test_y == n)[0]\n",
    "    plt.scatter(test_X[idx, 1], test_X[idx, 2], color=color, label=\"Clase %s\" % str(n))\n",
    "    \n",
    "plt.scatter(test_X[incorrect_idx, 1], test_X[incorrect_idx, 2], color=\"yellow\")\n",
    "\n",
    "plt.xlabel('Ancho Sépalo [cm]')\n",
    "plt.ylabel('Longitud Pétalo [cm]')\n",
    "plt.legend(loc=3)\n",
    "plt.title(\"Resultados de clasificación en IRIS con KNN\")\n",
    "plt.show()"
   ]
  },
  {
   "cell_type": "markdown",
   "metadata": {},
   "source": [
    "Los errores de clasificación se presentan en donde las clases 1 y 2 se superponen. Para tratar de mejorar el rendimiento se deben buscar o añadir características que ayuden a separar las clases."
   ]
  },
  {
   "cell_type": "code",
   "execution_count": 50,
   "metadata": {},
   "outputs": [
    {
     "name": "stdout",
     "output_type": "stream",
     "text": [
      "Datos clasificados de forma incorrecta\n",
      "Etiquetas reales:  [1 1 2]\n",
      "Etiquetas del clasificador:  [2 2 1]\n"
     ]
    }
   ],
   "source": [
    "print(\"Datos clasificados de forma incorrecta\")\n",
    "print(\"Etiquetas reales: \", test_y[[incorrect_idx]])\n",
    "print(\"Etiquetas del clasificador: \", pred_y[[incorrect_idx]])"
   ]
  }
 ],
 "metadata": {
  "kernelspec": {
   "display_name": "Python 3",
   "language": "python",
   "name": "python3"
  },
  "language_info": {
   "codemirror_mode": {
    "name": "ipython",
    "version": 3
   },
   "file_extension": ".py",
   "mimetype": "text/x-python",
   "name": "python",
   "nbconvert_exporter": "python",
   "pygments_lexer": "ipython3",
   "version": "3.6.4"
  }
 },
 "nbformat": 4,
 "nbformat_minor": 2
}
