{
 "cells": [
  {
   "cell_type": "code",
   "execution_count": 11,
   "metadata": {},
   "outputs": [
    {
     "name": "stdout",
     "output_type": "stream",
     "text": [
      "Versión de Python en:  C:\\Users\\aleja\\Anaconda3\n",
      "3.6.4 |Anaconda, Inc.| (default, Jan 16 2018, 10:22:32) [MSC v.1900 64 bit (AMD64)]\n",
      "\n",
      "[ OK ] numpy version 1.14.0\n",
      "[ OK ] scipy version 1.0.0\n",
      "[ OK ] matplotlib version 2.1.2\n",
      "[ OK ] IPython version 6.2.1\n",
      "[ OK ] sklearn version 0.19.1\n",
      "[ OK ] pandas version 0.22.0\n",
      "[ OK ] PIL version 1.1.7\n",
      "[ OK ] ipywidgets version 7.1.1\n"
     ]
    }
   ],
   "source": [
    "import sys\n",
    "  \n",
    "def import_version(pkg, min_ver,fail_msg=\"\"):\n",
    "    mod = None\n",
    "    try:\n",
    "        mod = importlib.import_module(pkg)\n",
    "        if pkg in {'PIL'}:\n",
    "            ver = mod.VERSION\n",
    "        else:\n",
    "            ver = mod.__version__\n",
    "        if Version(ver) < min_ver:\n",
    "            print(FAIL, \"%s version %s or higher required, but %s installed.\"\n",
    "                  % (lib, min_ver, ver))\n",
    "        else:\n",
    "            print(OK, '%s version %s' % (pkg, ver))\n",
    "    except ImportError:\n",
    "        print(FAIL, '%s not installed. %s' % (pkg, fail_msg))\n",
    "    return mod\n",
    "\n",
    "\n",
    "# Chequeo de la versión de Python\n",
    "print('Versión de Python en: ', sys.prefix)\n",
    "print(sys.version)\n",
    "pyversion = Version(sys.version)\n",
    "if pyversion >= \"3\":\n",
    "    if pyversion < \"3.4\":\n",
    "        print(FAIL, \"La versión requerida de Python es la 3.4 (o 2.7),\"\n",
    "                    \" pero la versión %s es la que se encuentra instalada.\" % sys.version)\n",
    "elif pyversion >= \"2\":\n",
    "    if pyversion < \"2.7\":\n",
    "        print(FAIL, \"La versión requerida de Python es la 2.7,\"\n",
    "                    \" pero la versión %s es la que se encuentra instalada.\" % sys.version)\n",
    "else:\n",
    "    print(FAIL, \"Versión de Python desconocida: %s\" % sys.version)\n",
    "\n",
    "print()\n",
    "requirements = {'numpy': \"1.6.1\", 'scipy': \"0.9\", 'matplotlib': \"1.0\",\n",
    "                'IPython': \"3.0\", 'sklearn': \"0.18\", 'pandas': \"0.19\",\n",
    "                'PIL': \"1.1.7\", 'ipywidgets': '6.0'}\n",
    "\n",
    "# Verificación de requerimientos\n",
    "for lib, required_version in list(requirements.items()):\n",
    "    import_version(lib, required_version)"
   ]
  }
 ],
 "metadata": {
  "kernelspec": {
   "display_name": "Python 3",
   "language": "python",
   "name": "python3"
  },
  "language_info": {
   "codemirror_mode": {
    "name": "ipython",
    "version": 3
   },
   "file_extension": ".py",
   "mimetype": "text/x-python",
   "name": "python",
   "nbconvert_exporter": "python",
   "pygments_lexer": "ipython3",
   "version": "3.6.4"
  }
 },
 "nbformat": 4,
 "nbformat_minor": 2
}
