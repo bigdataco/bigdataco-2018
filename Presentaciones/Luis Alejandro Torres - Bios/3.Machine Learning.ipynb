{
 "cells": [
  {
   "cell_type": "markdown",
   "metadata": {},
   "source": [
    "# Machine Learning en Scikit-learn\n",
    "\n",
    "## ¿Qué es Machine Learning?\n",
    "\n",
    "Puede ser definido en dos formas diferentes. \n",
    "\n",
    "***Arthur Samuel*** lo describió como:\n",
    "*El campo de estudio que da a las computadoras la capacidad de aprender sin estar explícitamente programadas\"*\n",
    "Esta es la definición más antigua e informal.\n",
    "\n",
    "***Tom Mitchell*** proporciona una definición más moderna:\n",
    "*Se dice que un programa de computadora aprende de la experiencia E con respecto a una clase de tareas T y la medida de rendimiento P, si su desempeño en tareas en T, medido por P, mejora con la experiencia E.\n",
    "\n",
    "El primer punto importante en *Machine Learning* es el concepto de toma de decisiones de forma automáticas a partir de los datos sin que se tengan que especificar reglas de como tomar esta tipo de decisiones. El segundo es la capacidad de generalización. La meta de un modelo es predecir sobre nuevos datos.\n",
    "\n",
    "## Los Datasets\n",
    "\n",
    "Por le general, los datos se presentan en un array de dos dimensiones (Matriz) con números. Cada instancia (fila) de entrenamiento se presenta en un vector de características y cada una de ellas, contiene un valor númerico que representa una propiedad (columna).\n",
    "\n",
    "![title](Images/Matriz_Dataset.png)\n",
    "\n",
    "\n",
    "## Tipos de Machine Learning\n",
    "\n",
    "Los problemas de *Machine Learning* pueden separarse en dos grandes categorias:\n",
    "\n",
    "- ***Aprendizaje Supervisado***: Se tiene un *dataset* que contiene tanto características de entrada como un valor objetivo correspondiente (salida deseada). Este se divide a su vez en dos categorias:\n",
    "\n",
    "    - ***Clasificación***: Las muestras pertenecen a dos o más categorias y lo que se quiere es aprender de los datos etiquetados como predecir a que categoria pertenecen datos no etiquetados.\n",
    "    - ***Regresión***: Si el resultado deseado consiste en una o más variables continuas, la tarea se llama regresión. \n",
    "\n",
    "\n",
    "- ***Aprendizaje No Supervisado***: Los datos de entrenamiento consisten en un conjunto de entrada *x* sin ningún valor objetivo correspondiente. El objetivo en tales problemas puede ser descubrir grupos de ejemplos similares dentro de los datos (***clustering***), o determinar la distribucón de datos dentro del espacio de entrada (***density estimation***), o proyectar los datos desde un espacio de alta dimensión hasta dos o tres dimensiones con el fin de visualizarlos (***Dimensionality reduction***).\n",
    "\n",
    "![title](Images/Tipos_ML.png)"
   ]
  }
 ],
 "metadata": {
  "kernelspec": {
   "display_name": "Python 3",
   "language": "python",
   "name": "python3"
  },
  "language_info": {
   "codemirror_mode": {
    "name": "ipython",
    "version": 3
   },
   "file_extension": ".py",
   "mimetype": "text/x-python",
   "name": "python",
   "nbconvert_exporter": "python",
   "pygments_lexer": "ipython3",
   "version": "3.6.4"
  }
 },
 "nbformat": 4,
 "nbformat_minor": 2
}
